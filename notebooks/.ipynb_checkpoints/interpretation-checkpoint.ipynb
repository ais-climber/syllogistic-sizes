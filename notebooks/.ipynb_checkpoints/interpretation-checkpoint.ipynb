{
 "cells": [
  {
   "cell_type": "markdown",
   "metadata": {},
   "source": [
    "# Interpretation of the Lemma"
   ]
  },
  {
   "cell_type": "markdown",
   "metadata": {},
   "source": [
    "The purpose of this notebook is to discuss how our combinatorial result (**Lemma 1**) relates to proving the completeness of the syllogistic logic involving 'all', 'some', 'more', and 'atLeast'.\n",
    "_______"
   ]
  },
  {
   "cell_type": "markdown",
   "metadata": {},
   "source": [
    "## Statement of the Lemma\n",
    "\n",
    "**Lemma 1:** Let $\\lt_0$ be a strict linear order of pairs $(i, j)$ of indices $1, \\ldots, n$ satisfying the **Singleton Condition**, that is: $i \\ne j \\implies (i, i) \\lt_0 (i, j)$ .  Then there exist sets $S_1, \\ldots, S_n$ such that\n",
    "- $\\vert S_i \\cup S_j \\vert \\lt \\vert S_k \\cup S_l \\vert \\quad iff \\quad (i, j) \\lt_0 (k, l)$"
   ]
  },
  {
   "cell_type": "markdown",
   "metadata": {},
   "source": [
    "## The Interpretation\n",
    "\n",
    "Let $\\Gamma$ be a set of sentences containing sentences `all(x, y)`, `some(x, y)`, `more(x, y)`, and `atleast(x, y)`, where `x` and `y` can be base nouns or noun unions.\n",
    "\n",
    "In our completeness proof, we must show that **(1)** If $\\Gamma \\vdash \\varphi$ then $\\Gamma \\vDash \\varphi$ and **(2)** If $\\Gamma \\vDash \\varphi$ then $\\Gamma \\vdash \\varphi$.  **(1)** is easy; we just verify that none of our rules can produce sentences that do not follow from the premises, i.e. that all of our rules are valid.  As for **(2)**, we suppose $\\Gamma \\vDash \\varphi$, then _construct a model for_ $\\Gamma$, and then subsequently make use of this model's structure in order to show, after a long and arduous journey, that $\\Gamma \\vdash \\varphi$.  Our **Lemma 1** relates specifically to the step of _constructing a model for_ $\\Gamma$.\n",
    "\n",
    "____"
   ]
  },
  {
   "cell_type": "markdown",
   "metadata": {},
   "source": [
    "Here is the interpretation: Our strict linear order $<_0$ corresponds to the order _imposed by_ `more(A U B, C U D)` sentences in $\\Gamma$.  The claim that \"there exist $S_1, \\ldots, S_n$\" corresponds to \"there exists a model with nouns $S_1, \\ldots, S_n$\".  Finally, the condition $|S_i \\cup S_j| < |S_k \\cup S_l| iff (i, j) <_0 (k, l)$ corresponds to the interpretation $|[[S_i \\cup S_j]]| < |[[S_k \\cup S_l]]| iff$ the `more(A U B, C U D)` sentences require that $S_i \\cup S_j$ comes before $S_k \\cup S_l$."
   ]
  },
  {
   "cell_type": "code",
   "execution_count": null,
   "metadata": {},
   "outputs": [],
   "source": []
  }
 ],
 "metadata": {
  "kernelspec": {
   "display_name": "Python 3",
   "language": "python",
   "name": "python3"
  },
  "language_info": {
   "codemirror_mode": {
    "name": "ipython",
    "version": 3
   },
   "file_extension": ".py",
   "mimetype": "text/x-python",
   "name": "python",
   "nbconvert_exporter": "python",
   "pygments_lexer": "ipython3",
   "version": "3.5.2"
  }
 },
 "nbformat": 4,
 "nbformat_minor": 2
}
